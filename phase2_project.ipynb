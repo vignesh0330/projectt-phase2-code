{
  "nbformat": 4,
  "nbformat_minor": 0,
  "metadata": {
    "colab": {
      "provenance": []
    },
    "kernelspec": {
      "name": "python3",
      "display_name": "Python 3"
    },
    "language_info": {
      "name": "python"
    }
  },
  "cells": [
    {
      "cell_type": "code",
      "execution_count": 5,
      "metadata": {
        "colab": {
          "base_uri": "https://localhost:8080/"
        },
        "id": "0kGoNf-6H00o",
        "outputId": "3f61fec1-60bf-4f6b-dc91-0defb6e47a8e"
      },
      "outputs": [
        {
          "output_type": "stream",
          "name": "stdout",
          "text": [
            "1       Interstellar\n",
            "2    The Dark Knight\n",
            "Name: title, dtype: object\n"
          ]
        }
      ],
      "source": [
        "from sklearn.feature_extraction.text import TfidfVectorizer\n",
        "from sklearn.metrics.pairwise import linear_kernel\n",
        "import pandas as pd\n",
        "\n",
        "# Sample movie dataset\n",
        "data = pd.DataFrame({\n",
        "    'title': ['Inception', 'Interstellar', 'The Dark Knight'],\n",
        "    'description': [\n",
        "        'A thief who steals corporate secrets using dream-sharing technology.',\n",
        "        'A team of explorers travel through a wormhole in space.',\n",
        "        'Batman must accept one of the greatest psychological tests.'\n",
        "    ]\n",
        "})\n",
        "\n",
        "# TF-IDF Vectorization\n",
        "tfidf = TfidfVectorizer(stop_words='english')\n",
        "tfidf_matrix = tfidf.fit_transform(data['description'])\n",
        "\n",
        "# Compute similarity\n",
        "cosine_sim = linear_kernel(tfidf_matrix, tfidf_matrix)\n",
        "\n",
        "# Recommendation function\n",
        "def recommend(title):\n",
        "    idx = data[data['title'] == title].index[0]\n",
        "    sim_scores = list(enumerate(cosine_sim[idx]))\n",
        "    sim_scores = sorted(sim_scores, key=lambda x: x[1], reverse=True)[1:3]\n",
        "    movie_indices = [i[0] for i in sim_scores]\n",
        "    return data['title'].iloc[movie_indices]\n",
        "\n",
        "print(recommend('Inception'))\n"
      ]
    },
    {
      "cell_type": "code",
      "source": [
        "from sklearn.metrics import mean_squared_error\n",
        "import numpy as np\n",
        "\n",
        "y_true = [4, 5, 3, 2]\n",
        "y_pred = [4.1, 4.8, 2.9, 2.2]\n",
        "\n",
        "mse = mean_squared_error(y_true, y_pred)\n",
        "rmse = np.sqrt(mse)\n",
        "print(\"RMSE:\", rmse)\n"
      ],
      "metadata": {
        "colab": {
          "base_uri": "https://localhost:8080/"
        },
        "id": "eAskga33K360",
        "outputId": "6bb35076-172d-4357-b657-f025a3c6af23"
      },
      "execution_count": null,
      "outputs": [
        {
          "output_type": "stream",
          "name": "stdout",
          "text": [
            "RMSE: 0.15811388300841903\n"
          ]
        }
      ]
    }
  ]
}